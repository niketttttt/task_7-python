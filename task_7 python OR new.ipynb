{
 "cells": [
  {
   "cell_type": "markdown",
   "metadata": {},
   "source": [
    "# Use OR Function inside Function\n",
    "\n",
    "* UUiD = This function generates a unique user ID using the UUID \n",
    "by the uuid module in Python.\n",
    "\n",
    "* DEF FUNCTION = Python def keyword is used to define a function, it is placed before a function name that is provided by the user to create a user-defined function. In Python, a function is a logical unit of code containing a sequence of statements indented under a name given using the “def” keyword. In Python def keyword is the most used keyword.\n",
    "\n",
    "* IF STATEMENT = The if statement is used to execute a block of code only if a specific condition is true.\n",
    "\n",
    "* ELIF STATEMENT = The elif statement allows you to check multiple expressions for truth and execute a block of code       soon as one of the conditions evaluates to true.\n",
    "* It’s used when you have multiple conditions to consider.\n",
    "\n",
    "* ELSE STATEMENT = The else statement is optional and executes a block of code when the condition in the if statement is  false. \n",
    "* You can have only one else block per if statement.\n",
    "\n",
    "* PRINT STATEMENT = The function prints the order category\n",
    "\n",
    "* OR = Python OR Operator takes at least two boolean expressions and returns True if any one of the expressions is True.  If all the expressions are False then it returns False."
   ]
  },
  {
   "cell_type": "code",
   "execution_count": 3,
   "metadata": {},
   "outputs": [],
   "source": [
    "import uuid"
   ]
  },
  {
   "cell_type": "code",
   "execution_count": 10,
   "metadata": {},
   "outputs": [],
   "source": [
    "def uniqueuserid():\n",
    "    userid = uuid.uuid1()\n",
    "    return userid"
   ]
  },
  {
   "cell_type": "code",
   "execution_count": 13,
   "metadata": {},
   "outputs": [
    {
     "data": {
      "text/plain": [
       "UUID('aac1a3b7-5f8d-11ef-9351-e4115b42a36a')"
      ]
     },
     "execution_count": 13,
     "metadata": {},
     "output_type": "execute_result"
    }
   ],
   "source": [
    "uniqueuserid()"
   ]
  },
  {
   "cell_type": "code",
   "execution_count": 67,
   "metadata": {},
   "outputs": [],
   "source": [
    "def orderdata(username, order):\n",
    "    order_category = ''\n",
    "    if type(order) == str:\n",
    "        if order == 't shirt' or order == 'print t shirt' or order == 'down shoulder t shirt':\n",
    "            order_category = 'your category is avilable'\n",
    "        elif order == 'shirts' or order == 'print shirts' or order == 'formal shirts':\n",
    "            order_category = 'your category amost ready'\n",
    "        else:\n",
    "            order_category = 'Your product is not available. Please provide an email address, and we will notify you when the order is ready.'\n",
    "    else:       \n",
    "        order_category = 'order is invalid'\n",
    "        \n",
    "    print(f'oder_category = {order_category}')\n",
    "    return{\n",
    "        'user_id' : uniqueuserid(),\n",
    "        'username' : username,\n",
    "        'category' : order,\n",
    "        'order_category' : order_category\n",
    "            \n",
    "    }\n",
    "        \n"
   ]
  },
  {
   "cell_type": "code",
   "execution_count": 75,
   "metadata": {},
   "outputs": [
    {
     "name": "stdout",
     "output_type": "stream",
     "text": [
      "oder_category = order is invalid\n",
      "{'user_id': UUID('8999d54b-5f9b-11ef-8584-e4115b42a36a'), 'username': 'www', 'category': 22, 'order_category': 'order is invalid'}\n"
     ]
    }
   ],
   "source": [
    "getdata = orderdata('www', 22)\n",
    "print(getdata)"
   ]
  },
  {
   "cell_type": "code",
   "execution_count": 83,
   "metadata": {},
   "outputs": [],
   "source": [
    "orders = [\n",
    "    {'name' : 'h1', 'order' : 't shirt'},\n",
    "    {'name' : 'h2', 'order' : 'shirts'},\n",
    "    {'name' : 'h3', 'order' : 'jeans'},\n",
    "]\n"
   ]
  },
  {
   "cell_type": "code",
   "execution_count": 91,
   "metadata": {},
   "outputs": [
    {
     "name": "stdout",
     "output_type": "stream",
     "text": [
      "oder_category = your category amost ready\n",
      "{'user_id': UUID('e93a6741-5f9e-11ef-8744-e4115b42a36a'), 'username': 'h2', 'category': 'shirts', 'order_category': 'your category amost ready'}\n"
     ]
    }
   ],
   "source": [
    "\n",
    "\n",
    "getdata = orderdata(orders[1]['name'],orders[1]['order'])\n",
    "print(getdata)"
   ]
  },
  {
   "cell_type": "code",
   "execution_count": 113,
   "metadata": {},
   "outputs": [
    {
     "name": "stdout",
     "output_type": "stream",
     "text": [
      "h1 t shirt\n",
      "oder_category = your category is avilable\n",
      "{'user_id': UUID('c49c6e67-5fa1-11ef-8507-e4115b42a36a'), 'username': 'h1', 'category': 't shirt', 'order_category': 'your category is avilable'}\n",
      "h2 shirts\n",
      "oder_category = your category amost ready\n",
      "{'user_id': UUID('c49c6e68-5fa1-11ef-9216-e4115b42a36a'), 'username': 'h2', 'category': 'shirts', 'order_category': 'your category amost ready'}\n",
      "h3 jeans\n",
      "oder_category = Your product is not available. Please provide an email address, and we will notify you when the order is ready.\n",
      "{'user_id': UUID('c49c6e69-5fa1-11ef-b735-e4115b42a36a'), 'username': 'h3', 'category': 'jeans', 'order_category': 'Your product is not available. Please provide an email address, and we will notify you when the order is ready.'}\n"
     ]
    }
   ],
   "source": [
    "for order in orders:\n",
    "    print(order['name'], order['order'])\n",
    "    neworder = orderdata(order['name'], order['order'])\n",
    "    print(neworder)\n",
    "   "
   ]
  },
  {
   "cell_type": "markdown",
   "metadata": {},
   "source": [
    "short cut metho"
   ]
  },
  {
   "cell_type": "code",
   "execution_count": 114,
   "metadata": {},
   "outputs": [
    {
     "name": "stdout",
     "output_type": "stream",
     "text": [
      "oder_category = your category is avilable\n",
      "oder_category = your category amost ready\n",
      "oder_category = Your product is not available. Please provide an email address, and we will notify you when the order is ready.\n"
     ]
    }
   ],
   "source": [
    "orderss = [orderdata(order['name'], order['order']) for order in orders]"
   ]
  },
  {
   "cell_type": "code",
   "execution_count": 23,
   "metadata": {},
   "outputs": [
    {
     "data": {
      "text/plain": [
       "True"
      ]
     },
     "execution_count": 23,
     "metadata": {},
     "output_type": "execute_result"
    }
   ],
   "source": [
    "type('asm') == str"
   ]
  }
 ],
 "metadata": {
  "kernelspec": {
   "display_name": "Python 3",
   "language": "python",
   "name": "python3"
  },
  "language_info": {
   "codemirror_mode": {
    "name": "ipython",
    "version": 3
   },
   "file_extension": ".py",
   "mimetype": "text/x-python",
   "name": "python",
   "nbconvert_exporter": "python",
   "pygments_lexer": "ipython3",
   "version": "3.12.4"
  }
 },
 "nbformat": 4,
 "nbformat_minor": 2
}
